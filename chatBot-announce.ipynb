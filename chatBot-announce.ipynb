{
 "cells": [
  {
   "cell_type": "code",
   "execution_count": 1,
   "metadata": {},
   "outputs": [],
   "source": [
    "import sqlalchemy\n",
    "from sqlalchemy import create_engine\n",
    "from sqlalchemy.ext.declarative import declarative_base"
   ]
  },
  {
   "cell_type": "code",
   "execution_count": 8,
   "metadata": {},
   "outputs": [],
   "source": [
    "# DB\n",
    "\n",
    "engine = create_engine(\"sqlite:///private/user_id.db\", echo=True)"
   ]
  },
  {
   "cell_type": "code",
   "execution_count": 9,
   "metadata": {},
   "outputs": [],
   "source": [
    "base = declarative_base()"
   ]
  },
  {
   "cell_type": "code",
   "execution_count": 10,
   "metadata": {},
   "outputs": [],
   "source": [
    "from sqlalchemy import Column, Integer, String"
   ]
  },
  {
   "cell_type": "code",
   "execution_count": 12,
   "metadata": {},
   "outputs": [],
   "source": [
    "class User(base):\n",
    "    __tablename__ = \"User\"\n",
    "    \n",
    "    id = Column(Integer, primary_key=True)\n",
    "    user_id = Column(Integer)\n",
    "    username = Column(String)\n",
    "    first_name = Column(String)\n",
    "    last_name = Column(String)\n",
    "    subscribe = Column(Integer)"
   ]
  },
  {
   "cell_type": "code",
   "execution_count": 13,
   "metadata": {},
   "outputs": [
    {
     "name": "stdout",
     "output_type": "stream",
     "text": [
      "2019-09-12 12:11:02,051 INFO sqlalchemy.engine.base.Engine SELECT CAST('test plain returns' AS VARCHAR(60)) AS anon_1\n",
      "2019-09-12 12:11:02,056 INFO sqlalchemy.engine.base.Engine ()\n",
      "2019-09-12 12:11:02,058 INFO sqlalchemy.engine.base.Engine SELECT CAST('test unicode returns' AS VARCHAR(60)) AS anon_1\n",
      "2019-09-12 12:11:02,059 INFO sqlalchemy.engine.base.Engine ()\n",
      "2019-09-12 12:11:02,062 INFO sqlalchemy.engine.base.Engine PRAGMA table_info(\"User\")\n",
      "2019-09-12 12:11:02,063 INFO sqlalchemy.engine.base.Engine ()\n",
      "2019-09-12 12:11:02,067 INFO sqlalchemy.engine.base.Engine \n",
      "CREATE TABLE \"User\" (\n",
      "\tid INTEGER NOT NULL, \n",
      "\tuser_id INTEGER, \n",
      "\tusername VARCHAR, \n",
      "\tfirst_name VARCHAR, \n",
      "\tlast_name VARCHAR, \n",
      "\tsubscribe INTEGER, \n",
      "\tPRIMARY KEY (id)\n",
      ")\n",
      "\n",
      "\n",
      "2019-09-12 12:11:02,068 INFO sqlalchemy.engine.base.Engine ()\n",
      "2019-09-12 12:11:02,077 INFO sqlalchemy.engine.base.Engine COMMIT\n"
     ]
    }
   ],
   "source": [
    "base.metadata.create_all(engine)"
   ]
  },
  {
   "cell_type": "code",
   "execution_count": 15,
   "metadata": {},
   "outputs": [],
   "source": [
    "test = User(user_id=12345, username=\"test\", last_name=\"practice\", first_name=\"fake\", subscribe=\"0\")"
   ]
  },
  {
   "cell_type": "code",
   "execution_count": 16,
   "metadata": {},
   "outputs": [],
   "source": [
    "from sqlalchemy.orm import sessionmaker"
   ]
  },
  {
   "cell_type": "code",
   "execution_count": 17,
   "metadata": {},
   "outputs": [],
   "source": [
    "Session = sessionmaker(bind=engine)"
   ]
  },
  {
   "cell_type": "code",
   "execution_count": 18,
   "metadata": {},
   "outputs": [],
   "source": [
    "session = Session()"
   ]
  },
  {
   "cell_type": "code",
   "execution_count": 19,
   "metadata": {},
   "outputs": [],
   "source": [
    "session.add(test)"
   ]
  },
  {
   "cell_type": "code",
   "execution_count": 20,
   "metadata": {},
   "outputs": [
    {
     "name": "stdout",
     "output_type": "stream",
     "text": [
      "2019-09-12 12:11:35,977 INFO sqlalchemy.engine.base.Engine BEGIN (implicit)\n",
      "2019-09-12 12:11:35,981 INFO sqlalchemy.engine.base.Engine INSERT INTO \"User\" (user_id, username, first_name, last_name, subscribe) VALUES (?, ?, ?, ?, ?)\n",
      "2019-09-12 12:11:35,982 INFO sqlalchemy.engine.base.Engine (12345, 'test', 'fake', 'practice', '0')\n",
      "2019-09-12 12:11:35,987 INFO sqlalchemy.engine.base.Engine COMMIT\n"
     ]
    }
   ],
   "source": [
    "session.commit()"
   ]
  },
  {
   "cell_type": "code",
   "execution_count": null,
   "metadata": {},
   "outputs": [],
   "source": []
  },
  {
   "cell_type": "code",
   "execution_count": 25,
   "metadata": {},
   "outputs": [],
   "source": [
    "import telegram\n",
    "import requests\n",
    "from bs4 import BeautifulSoup\n",
    "from telegram.ext import Updater, MessageHandler, Filters, CommandHandler"
   ]
  },
  {
   "cell_type": "code",
   "execution_count": 26,
   "metadata": {},
   "outputs": [],
   "source": [
    "with open(\"private/token.txt\", 'r') as fp:\n",
    "    my_token = fp.read()"
   ]
  },
  {
   "cell_type": "code",
   "execution_count": 27,
   "metadata": {},
   "outputs": [],
   "source": [
    "bot = telegram.Bot(token=my_token)"
   ]
  },
  {
   "cell_type": "code",
   "execution_count": 73,
   "metadata": {},
   "outputs": [
    {
     "name": "stderr",
     "output_type": "stream",
     "text": [
      "C:\\Users\\JINHYO\\Anaconda3\\lib\\site-packages\\ipykernel_launcher.py:1: TelegramDeprecationWarning: Old Handler API is deprecated - see https://git.io/fxJuV for details\n",
      "  \"\"\"Entry point for launching an IPython kernel.\n"
     ]
    }
   ],
   "source": [
    "updater = Updater(token=my_token)"
   ]
  },
  {
   "cell_type": "code",
   "execution_count": 74,
   "metadata": {},
   "outputs": [],
   "source": [
    "def get_message(bot, update):\n",
    "    update.message.reply_text(\"서울특별시빅데이터캠퍼스 공지사항 수신을 하시려면 \\\"/subscribe 수신\\\", 공지사항을 수신하지 않으시려면 \\\"/unsubscribe\\\"라고 말씀해주세요.\\n 이외 기능은 준비 중입니다.\")"
   ]
  },
  {
   "cell_type": "code",
   "execution_count": 75,
   "metadata": {},
   "outputs": [],
   "source": [
    "message_handler = MessageHandler(Filters.text, get_message)"
   ]
  },
  {
   "cell_type": "code",
   "execution_count": 76,
   "metadata": {},
   "outputs": [],
   "source": [
    "def subscribe_command(bot, update):\n",
    "    user_id=update.message.chat.id\n",
    "    username=update.message.chat.username\n",
    "    last_name=update.message.chat.last_name\n",
    "    first_name=update.message.chat.first_name\n",
    "    \n",
    "    session.add(\n",
    "        User(\n",
    "            user_id=user_id,\n",
    "            username=username,\n",
    "            last_name=last_name,\n",
    "            first_name=first_name,\n",
    "            subscribe=\"1\"\n",
    "        )\n",
    "    )\n",
    "    session.commit()\n",
    "    \n",
    "    update.message.reply_text(\"서울특별시빅데이터캠퍼스 공지사항 수신을 시작합니다.\")\n",
    "    update.message.reply_text(user_id+username+last_name+first_name)"
   ]
  },
  {
   "cell_type": "code",
   "execution_count": 77,
   "metadata": {},
   "outputs": [],
   "source": [
    "subscribe_command = CommandHandler(\"subscribe\", subscribe_command)"
   ]
  },
  {
   "cell_type": "code",
   "execution_count": 78,
   "metadata": {},
   "outputs": [],
   "source": [
    "def unsubscribe_command(bot, update):\n",
    "    session.query.filter_by(user_id=update.message.chat.id).delete()\n",
    "    update.message.reply_text(\"서울특별시빅데이터캠퍼스 공지사항 수신을 종료합니다.\")"
   ]
  },
  {
   "cell_type": "code",
   "execution_count": 79,
   "metadata": {},
   "outputs": [],
   "source": [
    "unsubscribe_command = CommandHandler(\"unsubscribe\", unsubscribe_command)"
   ]
  },
  {
   "cell_type": "code",
   "execution_count": 80,
   "metadata": {},
   "outputs": [],
   "source": [
    "updater.dispatcher.add_handler(message_handler)\n",
    "updater.dispatcher.add_handler(subscribe_command)\n",
    "updater.dispatcher.add_handler(unsubscribe_command)"
   ]
  },
  {
   "cell_type": "code",
   "execution_count": 81,
   "metadata": {},
   "outputs": [
    {
     "name": "stdout",
     "output_type": "stream",
     "text": [
      "2019-09-12 14:29:18,710 INFO sqlalchemy.engine.base.Engine BEGIN (implicit)\n",
      "2019-09-12 14:29:18,710 INFO sqlalchemy.engine.base.Engine INSERT INTO \"User\" (user_id, username, first_name, last_name, subscribe) VALUES (?, ?, ?, ?, ?)\n",
      "2019-09-12 14:29:18,714 INFO sqlalchemy.engine.base.Engine (918578255, None, 'Jinhyo', 'Shin', '1')\n",
      "2019-09-12 14:29:18,718 INFO sqlalchemy.engine.base.Engine COMMIT\n",
      "2019-09-12 14:29:59,365 INFO sqlalchemy.engine.base.Engine BEGIN (implicit)\n",
      "2019-09-12 14:29:59,365 INFO sqlalchemy.engine.base.Engine INSERT INTO \"User\" (user_id, username, first_name, last_name, subscribe) VALUES (?, ?, ?, ?, ?)\n",
      "2019-09-12 14:29:59,365 INFO sqlalchemy.engine.base.Engine (918578255, None, 'Jinhyo', 'Shin', '1')\n",
      "2019-09-12 14:29:59,373 INFO sqlalchemy.engine.base.Engine COMMIT\n"
     ]
    }
   ],
   "source": [
    "updater.start_polling(timeout=3, clean=True)\n",
    "updater.idle()"
   ]
  },
  {
   "cell_type": "code",
   "execution_count": null,
   "metadata": {},
   "outputs": [],
   "source": []
  },
  {
   "cell_type": "code",
   "execution_count": null,
   "metadata": {},
   "outputs": [],
   "source": []
  }
 ],
 "metadata": {
  "kernelspec": {
   "display_name": "Python 3",
   "language": "python",
   "name": "python3"
  },
  "language_info": {
   "codemirror_mode": {
    "name": "ipython",
    "version": 3
   },
   "file_extension": ".py",
   "mimetype": "text/x-python",
   "name": "python",
   "nbconvert_exporter": "python",
   "pygments_lexer": "ipython3",
   "version": "3.7.3"
  }
 },
 "nbformat": 4,
 "nbformat_minor": 2
}
